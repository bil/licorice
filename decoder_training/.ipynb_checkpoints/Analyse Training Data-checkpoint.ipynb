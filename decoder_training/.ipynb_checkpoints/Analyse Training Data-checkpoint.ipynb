{
 "cells": [
  {
   "cell_type": "code",
   "execution_count": null,
   "metadata": {},
   "outputs": [],
   "source": [
    "import numpy as np\n",
    "import sqlite3\n",
    "import msgpack\n",
    "import pandas as pd\n",
    "from datetime import date\n",
    "\n",
    "BIN_WIDTH = 50\n",
    "N_NEURONS = 96\n",
    "\n",
    "'''\n",
    "Read data from sqlite database\n",
    "'''\n",
    "conn = sqlite3.connect('experiment.db')\n",
    "cursor = conn.cursor()\n",
    "z_t = []\n",
    "v_t = []\n",
    "for row in cursor.execute('SELECT * FROM signals_table'):\n",
    "    if msgpack.unpackb(row[2], use_list=False)[4]: # [targ_x targ_y cursor_x cursor_y   trial   sound]\n",
    "        z_t += [msgpack.unpackb(row[0], use_list=False)]\n",
    "        v_t += [msgpack.unpackb(row[1], use_list=False)]\n",
    "conn.close()\n",
    "\n",
    "z = np.zeros((len(z_t), len(z_t[0])))\n",
    "v = np.zeros((len(v_t), len(v_t[0])))\n",
    "\n",
    "for i in range(len(z_t)):\n",
    "    z[i] = np.array(z_t[i])\n",
    "    v[i] = np.array(v_t[i])\n",
    "\n",
    "\n",
    "'''\n",
    "Create pandas DataFrame and bin data\n",
    "'''\n",
    "d = { 'x' : v[:,0], 'y' : v[:,1]} # want 98 columns\n",
    "for i in range(len(z[0])):\n",
    "    d[str(i)] = z[:,i]\n",
    "\n",
    "raw = pd.DataFrame(data=d) # delta time index\n",
    "\n",
    "idx = pd.TimedeltaIndex(df.index, unit='ms')\n",
    "raw = df.set_index(idx)\n",
    "\n",
    "ms = str(BIN_WIDTH) + 'ms'\n",
    "df = pd.DataFrame()\n",
    "\n",
    "z_idxs = [str(i) for i in range(N_NEURONS)]\n",
    "for i in z_idxs:\n",
    "    df[i] = raw[i].resample(ms).sum()\n",
    "    \n",
    "df['x'] = raw['x'].resample(ms).mean()\n",
    "df['y'] = raw['y'].resample(ms).mean()"
   ]
  }
 ],
 "metadata": {
  "kernelspec": {
   "display_name": "Python 2",
   "language": "python",
   "name": "python2"
  },
  "language_info": {
   "codemirror_mode": {
    "name": "ipython",
    "version": 2
   },
   "file_extension": ".py",
   "mimetype": "text/x-python",
   "name": "python",
   "nbconvert_exporter": "python",
   "pygments_lexer": "ipython2",
   "version": "2.7.12"
  }
 },
 "nbformat": 4,
 "nbformat_minor": 2
}
