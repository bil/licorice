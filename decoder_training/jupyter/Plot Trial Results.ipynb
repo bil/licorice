{
 "cells": [
  {
   "cell_type": "code",
   "execution_count": 278,
   "metadata": {},
   "outputs": [],
   "source": [
    "import numpy as np\n",
    "import sqlite3\n",
    "import msgpack\n",
    "import pandas as pd\n",
    "from datetime import date\n",
    "import matplotlib.pyplot as plt\n",
    "\n",
    "'''\n",
    "Read data from sqlite database\n",
    "'''\n",
    "conn = sqlite3.connect('/home/a/LiCoRICE/decoder_training/participant_data/sabar_data.db')\n",
    "cursor = conn.cursor()\n",
    "spike_data = []\n",
    "stick_internal = []\n",
    "stick_decode = []\n",
    "bin_width = []\n",
    "task_params = []\n",
    "task_state = []\n",
    "\n",
    "for row in cursor.execute('SELECT * FROM signals_table'):\n",
    "    stick_internal += [msgpack.unpackb(row[0], use_list=False)]\n",
    "    spike_data += [msgpack.unpackb(row[1], use_list=False)]\n",
    "    stick_decode += [msgpack.unpackb(row[2],use_list=False)]\n",
    "    bin_width += [msgpack.unpackb(row[3],use_list=False)]\n",
    "    task_params += [msgpack.unpackb(row[4],use_list=False)]\n",
    "    task_state += [msgpack.unpackb(row[5],use_list=False)]\n",
    "    \n",
    "conn.close()\n",
    "\n",
    "z = np.zeros((len(spike_data), len(spike_data[0])))\n",
    "v_actual = np.zeros((len(stick_internal), len(stick_internal[0])))\n",
    "v_decoded = np.zeros((len(stick_decode), len(stick_decode[0])))\n",
    "bin_width = np.array(bin_width).flatten()\n",
    "state = np.zeros((len(task_state),len(task_state[0])))\n",
    "\n",
    "for i in range(len(spike_data)):\n",
    "    z[i] = np.array(spike_data[i])\n",
    "    v_actual[i] = np.array(stick_internal[i])\n",
    "    v_decoded[i] = np.array(stick_decode[i])\n",
    "    state[i] = np.array(task_state[i])\n"
   ]
  },
  {
   "cell_type": "code",
   "execution_count": 279,
   "metadata": {},
   "outputs": [],
   "source": [
    "d = {'v_actual_x' : v_actual[:,0], \n",
    "     'v_actual_y' : v_actual[:,1],\n",
    "     'v_decoded_x' : v_decoded[:,0],\n",
    "     'v_decoded_y' : v_decoded[:,1],\n",
    "    'bin_width' : bin_width[:],\n",
    "    'target_x' : state[:,0],\n",
    "    'target_y' : state[:,1],\n",
    "    'cursor_x' : state[:,2],\n",
    "    'cursor_y' : state[:,3],\n",
    "    'in_trial' : state[:,4],\n",
    "    'success' : state[:,5]}\n",
    "df = pd.DataFrame(data=d)\n",
    "idx = pd.TimedeltaIndex(df.index, unit='ms')\n",
    "df = df.set_index(idx)"
   ]
  },
  {
   "cell_type": "code",
   "execution_count": 280,
   "metadata": {},
   "outputs": [],
   "source": [
    "df['bin_width'] = df['bin_width'].astype('category')\n",
    "df['in_trial'] = df['in_trial'].astype('category')\n",
    "df['success'] = df['success'].astype('category')"
   ]
  },
  {
   "cell_type": "code",
   "execution_count": 289,
   "metadata": {},
   "outputs": [
    {
     "data": {
      "text/plain": [
       "108"
      ]
     },
     "execution_count": 289,
     "metadata": {},
     "output_type": "execute_result"
    }
   ],
   "source": [
    "len(df[df['success']==2])"
   ]
  },
  {
   "cell_type": "code",
   "execution_count": 282,
   "metadata": {},
   "outputs": [],
   "source": [
    "# df_10 = df[df['bin_width']==10]\n",
    "# df_25 = df[df['bin_width']==25]\n",
    "# df_50 = df[df['bin_width']==50]\n",
    "# df_100 = df[df['bin_width']==100]\n",
    "# df_200 = df[df['bin_width']==200]\n",
    "# df_300 = df[df['bin_width']==300]\n",
    "\n",
    "# dfs = [df_10,df_25,df_50,df_100,df_200,df_300]\n",
    "\n",
    "bin_widths = [17,35,75,150,300]"
   ]
  },
  {
   "cell_type": "code",
   "execution_count": 283,
   "metadata": {},
   "outputs": [],
   "source": [
    "from ipywidgets import interact, fixed\n",
    "import ipywidgets as widgets\n",
    "%matplotlib inline"
   ]
  },
  {
   "cell_type": "code",
   "execution_count": 284,
   "metadata": {},
   "outputs": [],
   "source": [
    "def plot_reaches(bin_width):\n",
    "    bw = int(bin_width)\n",
    "    \n",
    "    d = df[df['bin_width'] == bw]\n",
    "    x = np.arange(len(d['v_actual_x']))\n",
    "    \n",
    "    plt.figure(1)\n",
    "    plt.subplot(211)\n",
    "    plt.plot(x,d['v_actual_x'][:],'r',x,d['v_decoded_x'][:],'b')\n",
    "    plt.subplot(212)\n",
    "    plt.plot(x,d['v_actual_y'][:],'r',x,d['v_decoded_y'][:],'b')\n",
    "    \n",
    "    plt.show()"
   ]
  },
  {
   "cell_type": "code",
   "execution_count": 285,
   "metadata": {},
   "outputs": [
    {
     "data": {
      "application/vnd.jupyter.widget-view+json": {
       "model_id": "c17d6e5d457f494a8c76c1f5c585eeee",
       "version_major": 2,
       "version_minor": 0
      },
      "text/html": [
       "<p>Failed to display Jupyter Widget of type <code>interactive</code>.</p>\n",
       "<p>\n",
       "  If you're reading this message in the Jupyter Notebook or JupyterLab Notebook, it may mean\n",
       "  that the widgets JavaScript is still loading. If this message persists, it\n",
       "  likely means that the widgets JavaScript library is either not installed or\n",
       "  not enabled. See the <a href=\"https://ipywidgets.readthedocs.io/en/stable/user_install.html\">Jupyter\n",
       "  Widgets Documentation</a> for setup instructions.\n",
       "</p>\n",
       "<p>\n",
       "  If you're reading this message in another frontend (for example, a static\n",
       "  rendering on GitHub or <a href=\"https://nbviewer.jupyter.org/\">NBViewer</a>),\n",
       "  it may mean that your frontend doesn't currently support widgets.\n",
       "</p>\n"
      ],
      "text/plain": [
       "interactive(children=(Dropdown(description=u'bin_width', options=(17, 35, 75, 150, 300), value=17), Output()), _dom_classes=('widget-interact',))"
      ]
     },
     "metadata": {},
     "output_type": "display_data"
    },
    {
     "data": {
      "text/plain": [
       "<function __main__.plot_reaches>"
      ]
     },
     "execution_count": 285,
     "metadata": {},
     "output_type": "execute_result"
    }
   ],
   "source": [
    "interact(plot_reaches, bin_width = bin_widths)"
   ]
  },
  {
   "cell_type": "code",
   "execution_count": 246,
   "metadata": {},
   "outputs": [],
   "source": [
    "# for n,df in enumerate(dfs):\n",
    "\n",
    "#     i = 0\n",
    "#     while df['in_trial'][i]:\n",
    "#         i += 1\n",
    "\n",
    "#     j = -1\n",
    "#     while df['in_trial'][j]:\n",
    "#         j -= 1\n",
    "\n",
    "#     dfs[n] = df[i:j]\n",
    "\n",
    "# df_10,df_25,df_50,df_100,df_200,df_300 = dfs\n",
    "    "
   ]
  }
 ],
 "metadata": {
  "kernelspec": {
   "display_name": "Python 2",
   "language": "python",
   "name": "python2"
  },
  "language_info": {
   "codemirror_mode": {
    "name": "ipython",
    "version": 2
   },
   "file_extension": ".py",
   "mimetype": "text/x-python",
   "name": "python",
   "nbconvert_exporter": "python",
   "pygments_lexer": "ipython2",
   "version": "2.7.12"
  }
 },
 "nbformat": 4,
 "nbformat_minor": 2
}
